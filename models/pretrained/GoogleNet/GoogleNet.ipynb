{
  "cells": [
    {
      "cell_type": "code",
      "execution_count": 5,
      "metadata": {
        "id": "1hGdK_f9YZ-8"
      },
      "outputs": [],
      "source": [
        "import os\n",
        "import torch\n",
        "import random\n",
        "import numpy as np\n",
        "import torchvision\n",
        "import matplotlib.pyplot as plt\n",
        "import torchvision.transforms as transforms\n",
        "import shutil\n",
        "import time\n",
        "import xml.etree.ElementTree as et\n",
        "import splitfolders\n",
        "import wget\n",
        "import requests\n",
        "import pickle\n",
        "\n",
        "from io import BytesIO\n",
        "from zipfile import ZipFile\n",
        "import tensorflow as tf\n",
        "from tqdm import tqdm\n",
        "from PIL import Image\n",
        "from torchvision import models\n",
        "from torch.utils.data import DataLoader\n",
        "from torchvision.datasets import ImageFolder\n",
        "BATCH_SIZE = 32"
      ]
    },
    {
      "cell_type": "code",
      "source": [
        "from google.colab import drive\n",
        "drive.mount('/content/drive')"
      ],
      "metadata": {
        "colab": {
          "base_uri": "https://localhost:8080/"
        },
        "id": "fPOqmMwOYiax",
        "outputId": "f843686e-343c-43a8-87ff-a05e86c7c80a"
      },
      "execution_count": 1,
      "outputs": [
        {
          "output_type": "stream",
          "name": "stdout",
          "text": [
            "Mounted at /content/drive\n"
          ]
        }
      ]
    },
    {
      "cell_type": "code",
      "execution_count": 6,
      "metadata": {
        "colab": {
          "base_uri": "https://localhost:8080/"
        },
        "id": "rC_1JZpWYZ_A",
        "outputId": "94dfd914-8467-433a-95ed-bc453dc2ad57"
      },
      "outputs": [
        {
          "output_type": "stream",
          "name": "stdout",
          "text": [
            "Connected device: cuda\n"
          ]
        }
      ],
      "source": [
        "use_gpu = torch.cuda.is_available()\n",
        "device = 'cuda' if use_gpu else 'cpu'\n",
        "print('Connected device:', device)"
      ]
    },
    {
      "cell_type": "markdown",
      "metadata": {
        "id": "dld45hcnYZ_C"
      },
      "source": [
        "**Загружаем датасет**"
      ]
    },
    {
      "cell_type": "code",
      "execution_count": null,
      "metadata": {
        "id": "R3Hj44eIYZ_D"
      },
      "outputs": [],
      "source": [
        "# перенесем в папку data наш датасет\n",
        "source_dir = \"C:/Users/илья/Desktop/MIPT/Хакатон/Project/Грибы\"\n",
        "target_dir = '/content/drive/MyDrive/ColabNotebooks/neuro_project/binary_mushroom_classification_model/data'\n",
        "folder_names = os.listdir(source_dir)\n",
        "for folder_name in folder_names:\n",
        "    shutil.move(os.path.join(source_dir, folder_name), target_dir)\n",
        "\n",
        "# os.mkdir('data')\n",
        "# для загрузки с гугл диска\n",
        "# url = 'https://drive.google.com/uc?export=download&id=120xqh0mYtYZ1Qh7vr-XFzjPbSKivLJjA'\n",
        "# file_name = wget.download(url, 'data/')\n",
        "\n",
        "# with ZipFile(file_name, 'r') as zip_file:\n",
        "#     zip_file.extractall()\n",
        "\n",
        "# link_lst = [eatable, poisonous]\n",
        "# for link in link_lst:\n",
        "#     wget.download(link, 'data/')"
      ]
    },
    {
      "cell_type": "markdown",
      "metadata": {
        "id": "uJ4QxuV4YZ_E"
      },
      "source": [
        "****Разделим данные на train, test, valid****"
      ]
    },
    {
      "cell_type": "code",
      "execution_count": 8,
      "metadata": {
        "colab": {
          "base_uri": "https://localhost:8080/"
        },
        "id": "Zeg-ji1MYZ_E",
        "outputId": "2b871835-a607-42f5-e518-75dbcd89fecb"
      },
      "outputs": [
        {
          "output_type": "stream",
          "name": "stderr",
          "text": [
            "\n",
            "Copying files: 0 files [00:00, ? files/s]\u001b[A\n",
            "Copying files: 1 files [00:00,  6.18 files/s]\u001b[A\n",
            "Copying files: 3 files [00:00,  5.00 files/s]\u001b[A\n",
            "Copying files: 4 files [00:01,  3.58 files/s]\u001b[A\n",
            "Copying files: 5 files [00:01,  3.14 files/s]\u001b[A\n",
            "Copying files: 6 files [00:01,  2.86 files/s]\u001b[A\n",
            "Copying files: 7 files [00:02,  2.75 files/s]\u001b[A\n",
            "Copying files: 8 files [00:08,  2.10s/ files]\u001b[A\n",
            "Copying files: 16 files [00:08,  2.04 files/s]\u001b[A\n",
            "Copying files: 26 files [00:08,  4.74 files/s]\u001b[A\n",
            "Copying files: 34 files [00:08,  7.58 files/s]\u001b[A\n",
            "Copying files: 45 files [00:08, 12.81 files/s]\u001b[A\n",
            "Copying files: 56 files [00:08, 19.37 files/s]\u001b[A\n",
            "Copying files: 68 files [00:09, 27.89 files/s]\u001b[A\n",
            "Copying files: 80 files [00:09, 38.00 files/s]\u001b[A\n",
            "Copying files: 91 files [00:09, 47.50 files/s]\u001b[A\n",
            "Copying files: 103 files [00:09, 53.70 files/s]\u001b[A\n",
            "Copying files: 115 files [00:09, 64.45 files/s]\u001b[A\n",
            "Copying files: 125 files [00:09, 71.38 files/s]\u001b[A\n",
            "Copying files: 136 files [00:09, 79.63 files/s]\u001b[A\n",
            "Copying files: 147 files [00:09, 84.65 files/s]\u001b[A\n",
            "Copying files: 158 files [00:09, 87.95 files/s]\u001b[A\n",
            "Copying files: 168 files [00:10, 85.26 files/s]\u001b[A\n",
            "Copying files: 178 files [00:10, 83.12 files/s]\u001b[A\n",
            "Copying files: 187 files [00:10, 83.32 files/s]\u001b[A\n",
            "Copying files: 199 files [00:10, 91.10 files/s]\u001b[A\n",
            "Copying files: 209 files [00:10, 92.60 files/s]\u001b[A\n",
            "Copying files: 219 files [00:10, 94.01 files/s]\u001b[A\n",
            "Copying files: 229 files [00:10, 93.98 files/s]\u001b[A\n",
            "Copying files: 239 files [00:10, 90.05 files/s]\u001b[A\n",
            "Copying files: 250 files [00:10, 89.75 files/s]\u001b[A\n",
            "Copying files: 261 files [00:11, 94.13 files/s]\u001b[A\n",
            "Copying files: 271 files [00:11, 92.57 files/s]\u001b[A\n",
            "Copying files: 282 files [00:11, 95.73 files/s]\u001b[A\n",
            "Copying files: 292 files [00:11, 89.45 files/s]\u001b[A\n",
            "Copying files: 302 files [00:11, 89.64 files/s]\u001b[A\n",
            "Copying files: 313 files [00:11, 94.70 files/s]\u001b[A\n",
            "Copying files: 323 files [00:11, 94.13 files/s]\u001b[A\n",
            "Copying files: 333 files [00:11, 94.25 files/s]\u001b[A\n",
            "Copying files: 345 files [00:11, 100.90 files/s]\u001b[A\n",
            "Copying files: 356 files [00:12, 99.63 files/s] \u001b[A\n",
            "Copying files: 367 files [00:12, 98.49 files/s]\u001b[A\n",
            "Copying files: 378 files [00:12, 99.78 files/s]\u001b[A\n",
            "Copying files: 389 files [00:12, 62.52 files/s]\u001b[A\n",
            "Copying files: 399 files [00:12, 68.88 files/s]\u001b[A\n",
            "Copying files: 410 files [00:12, 77.39 files/s]\u001b[A\n",
            "Copying files: 420 files [00:12, 80.01 files/s]\u001b[A\n",
            "Copying files: 430 files [00:13, 83.56 files/s]\u001b[A\n",
            "Copying files: 441 files [00:13, 90.29 files/s]\u001b[A\n",
            "Copying files: 451 files [00:13, 88.71 files/s]\u001b[A\n",
            "Copying files: 461 files [00:13, 88.43 files/s]\u001b[A\n",
            "Copying files: 473 files [00:13, 95.27 files/s]\u001b[A\n",
            "Copying files: 483 files [00:13, 95.81 files/s]\u001b[A\n",
            "Copying files: 493 files [00:13, 95.26 files/s]\u001b[A\n",
            "Copying files: 503 files [00:13, 95.88 files/s]\u001b[A\n",
            "Copying files: 513 files [00:13, 95.44 files/s]\u001b[A\n",
            "Copying files: 524 files [00:13, 97.74 files/s]\u001b[A\n",
            "Copying files: 534 files [00:14, 97.44 files/s]\u001b[A\n",
            "Copying files: 546 files [00:14, 101.88 files/s]\u001b[A\n",
            "Copying files: 557 files [00:14, 100.14 files/s]\u001b[A\n",
            "Copying files: 568 files [00:14, 95.26 files/s] \u001b[A\n",
            "Copying files: 578 files [00:14, 83.03 files/s]\u001b[A\n",
            "Copying files: 587 files [00:14, 84.23 files/s]\u001b[A\n",
            "Copying files: 598 files [00:14, 88.01 files/s]\u001b[A\n",
            "Copying files: 609 files [00:14, 93.86 files/s]\u001b[A\n",
            "Copying files: 619 files [00:15, 91.78 files/s]\u001b[A\n",
            "Copying files: 631 files [00:15, 98.58 files/s]\u001b[A\n",
            "Copying files: 642 files [00:15, 96.93 files/s]\u001b[A\n",
            "Copying files: 652 files [00:15, 92.50 files/s]\u001b[A\n",
            "Copying files: 664 files [00:15, 99.15 files/s]\u001b[A\n",
            "Copying files: 675 files [00:19,  8.46 files/s]\u001b[A\n",
            "Copying files: 683 files [00:28,  2.90 files/s]\u001b[A\n",
            "Copying files: 693 files [00:28,  4.01 files/s]\u001b[A\n",
            "Copying files: 702 files [00:28,  5.45 files/s]\u001b[A\n",
            "Copying files: 710 files [00:28,  7.18 files/s]\u001b[A\n",
            "Copying files: 717 files [00:28,  9.14 files/s]\u001b[A\n",
            "Copying files: 724 files [00:28, 11.74 files/s]\u001b[A\n",
            "Copying files: 731 files [00:28, 15.15 files/s]\u001b[A\n",
            "Copying files: 742 files [00:29, 22.15 files/s]\u001b[A\n",
            "Copying files: 752 files [00:29, 29.67 files/s]\u001b[A\n",
            "Copying files: 760 files [00:29, 35.29 files/s]\u001b[A\n",
            "Copying files: 770 files [00:29, 44.33 files/s]\u001b[A\n",
            "Copying files: 779 files [00:29, 51.04 files/s]\u001b[A\n",
            "Copying files: 788 files [00:29, 57.26 files/s]\u001b[A\n",
            "Copying files: 797 files [00:29, 64.00 files/s]\u001b[A\n",
            "Copying files: 807 files [00:29, 71.65 files/s]\u001b[A\n",
            "Copying files: 816 files [00:29, 75.23 files/s]\u001b[A\n",
            "Copying files: 825 files [00:30, 79.00 files/s]\u001b[A\n",
            "Copying files: 834 files [00:30, 80.29 files/s]\u001b[A\n",
            "Copying files: 844 files [00:30, 82.34 files/s]\u001b[A\n",
            "Copying files: 855 files [00:30, 89.19 files/s]\u001b[A\n",
            "Copying files: 865 files [00:30, 89.11 files/s]\u001b[A\n",
            "Copying files: 875 files [00:30, 89.21 files/s]\u001b[A\n",
            "Copying files: 885 files [00:30, 67.45 files/s]\u001b[A\n",
            "Copying files: 893 files [00:30, 61.12 files/s]\u001b[A\n",
            "Copying files: 900 files [00:31, 60.02 files/s]\u001b[A\n",
            "Copying files: 907 files [00:31, 59.52 files/s]\u001b[A\n",
            "Copying files: 918 files [00:31, 70.23 files/s]\u001b[A\n",
            "Copying files: 927 files [00:31, 73.72 files/s]\u001b[A\n",
            "Copying files: 938 files [00:31, 81.63 files/s]\u001b[A\n",
            "Copying files: 947 files [00:31, 81.68 files/s]\u001b[A\n",
            "Copying files: 956 files [00:31, 70.78 files/s]\u001b[A\n",
            "Copying files: 964 files [00:31, 61.66 files/s]\u001b[A\n",
            "Copying files: 971 files [00:32, 56.50 files/s]\u001b[A\n",
            "Copying files: 981 files [00:32, 66.16 files/s]\u001b[A\n",
            "Copying files: 989 files [00:32, 69.05 files/s]\u001b[A\n",
            "Copying files: 999 files [00:32, 76.11 files/s]\u001b[A\n",
            "Copying files: 1008 files [00:32, 72.56 files/s]\u001b[A\n",
            "Copying files: 1016 files [00:32, 73.86 files/s]\u001b[A\n",
            "Copying files: 1026 files [00:32, 79.07 files/s]\u001b[A\n",
            "Copying files: 1035 files [00:32, 80.53 files/s]\u001b[A\n",
            "Copying files: 1044 files [00:33, 73.22 files/s]\u001b[A\n",
            "Copying files: 1052 files [00:33, 67.77 files/s]\u001b[A\n",
            "Copying files: 1062 files [00:33, 72.60 files/s]\u001b[A\n",
            "Copying files: 1072 files [00:33, 78.48 files/s]\u001b[A\n",
            "Copying files: 1081 files [00:33, 78.18 files/s]\u001b[A\n",
            "Copying files: 1090 files [00:33, 77.62 files/s]\u001b[A\n",
            "Copying files: 1098 files [00:33, 77.36 files/s]\u001b[A\n",
            "Copying files: 1108 files [00:33, 79.67 files/s]\u001b[A\n",
            "Copying files: 1117 files [00:33, 82.18 files/s]\u001b[A\n",
            "Copying files: 1126 files [00:34, 80.89 files/s]\u001b[A\n",
            "Copying files: 1136 files [00:34, 85.30 files/s]\u001b[A\n",
            "Copying files: 1145 files [00:34, 85.37 files/s]\u001b[A\n",
            "Copying files: 1154 files [00:34, 82.36 files/s]\u001b[A\n",
            "Copying files: 1163 files [00:34, 81.67 files/s]\u001b[A\n",
            "Copying files: 1172 files [00:34, 82.32 files/s]\u001b[A\n",
            "Copying files: 1183 files [00:34, 89.94 files/s]\u001b[A\n",
            "Copying files: 1193 files [00:34, 85.50 files/s]\u001b[A\n",
            "Copying files: 1202 files [00:34, 85.74 files/s]\u001b[A\n",
            "Copying files: 1213 files [00:35, 90.87 files/s]\u001b[A\n",
            "Copying files: 1223 files [00:35, 90.57 files/s]\u001b[A\n",
            "Copying files: 1233 files [00:35, 88.03 files/s]\u001b[A\n",
            "Copying files: 1244 files [00:35, 92.39 files/s]\u001b[A\n",
            "Copying files: 1254 files [00:35, 88.35 files/s]\u001b[A\n",
            "Copying files: 1263 files [00:35, 85.94 files/s]\u001b[A\n",
            "Copying files: 1272 files [00:35, 82.02 files/s]\u001b[A\n",
            "Copying files: 1281 files [00:35, 81.24 files/s]\u001b[A\n",
            "Copying files: 1290 files [00:35, 82.46 files/s]\u001b[A\n",
            "Copying files: 1299 files [00:36, 82.54 files/s]\u001b[A\n",
            "Copying files: 1308 files [00:36, 80.64 files/s]\u001b[A\n",
            "Copying files: 1317 files [00:36, 80.63 files/s]\u001b[A\n",
            "Copying files: 1326 files [00:36, 81.44 files/s]\u001b[A\n",
            "Copying files: 1335 files [00:36, 77.57 files/s]\u001b[A\n",
            "Copying files: 1344 files [00:36, 77.97 files/s]\u001b[A\n",
            "Copying files: 1353 files [00:36, 79.54 files/s]\u001b[A\n",
            "Copying files: 1361 files [00:36, 78.35 files/s]\u001b[A\n",
            "Copying files: 1371 files [00:37, 82.61 files/s]\u001b[A\n",
            "Copying files: 1380 files [00:37, 83.31 files/s]\u001b[A\n",
            "Copying files: 1390 files [00:37, 87.11 files/s]\u001b[A\n",
            "Copying files: 1399 files [00:37, 85.79 files/s]\u001b[A\n",
            "Copying files: 1410 files [00:37, 90.88 files/s]\u001b[A\n",
            "Copying files: 1420 files [00:37, 89.39 files/s]\u001b[A\n",
            "Copying files: 1430 files [00:37, 90.02 files/s]\u001b[A\n",
            "Copying files: 1440 files [00:37, 91.03 files/s]\u001b[A\n",
            "Copying files: 1450 files [00:37, 88.64 files/s]\u001b[A\n",
            "Copying files: 1460 files [00:37, 91.69 files/s]\u001b[A\n",
            "Copying files: 1470 files [00:38, 74.77 files/s]\u001b[A\n",
            "Copying files: 1480 files [00:38, 76.01 files/s]\u001b[A\n",
            "Copying files: 1492 files [00:38, 86.40 files/s]\u001b[A\n",
            "Copying files: 1502 files [00:38, 87.64 files/s]\u001b[A\n",
            "Copying files: 1513 files [00:38, 92.65 files/s]\u001b[A\n",
            "Copying files: 1523 files [00:38, 90.67 files/s]\u001b[A\n",
            "Copying files: 1533 files [00:38, 85.90 files/s]\u001b[A\n",
            "Copying files: 1546 files [00:39, 39.63 files/s]\n"
          ]
        }
      ],
      "source": [
        "# определяем путь к папке с исходными файлами\n",
        "input_folder = \"/content/drive/MyDrive/ColabNotebooks/neuro_project/binary_mushroom_classification_model/data\" #\n",
        "\n",
        "# разбиваем датасет на папки с процентным соотношением числа файлов\n",
        "splitfolders.ratio(input_folder, '/content/drive/MyDrive/ColabNotebooks/neuro_project/binary_mushroom_classification_model/data/mooshrooms_splited', ratio = (0.7, 0.15, 0.15), seed=13, group_prefix=None)\n"
      ]
    },
    {
      "cell_type": "code",
      "execution_count": 15,
      "metadata": {
        "id": "3stdV-uVYZ_E"
      },
      "outputs": [],
      "source": [
        "# Training dataset.\n",
        "train_dataset = ImageFolder(\n",
        "    root = \"/content/drive/MyDrive/ColabNotebooks/neuro_project/binary_mushroom_classification_model/data/mooshrooms_splited/train\"\n",
        ")\n",
        "# Validation dataset.\n",
        "valid_dataset = ImageFolder(\n",
        "    root = '/content/drive/MyDrive/ColabNotebooks/neuro_project/binary_mushroom_classification_model/data/mooshrooms_splited/val'\n",
        ")\n",
        "# Test dataset\n",
        "test_dataset = ImageFolder(\n",
        "    root = '/content/drive/MyDrive/ColabNotebooks/neuro_project/binary_mushroom_classification_model/data/mooshrooms_splited/test'\n",
        ")"
      ]
    },
    {
      "cell_type": "markdown",
      "metadata": {
        "id": "3x611tZyYZ_F"
      },
      "source": [
        "**Произведем нормализацию и аугментацию - автовыравнивание изображений и автоконтраста (чтобы улучшить обобщающую способность моделей и внизить риск переобучения).**"
      ]
    },
    {
      "cell_type": "code",
      "execution_count": 16,
      "metadata": {
        "id": "7iR7w2QlYZ_F"
      },
      "outputs": [],
      "source": [
        "normalize = transforms.Normalize(mean=[0.485, 0.456, 0.406],\n",
        "                                 std=[0.229, 0.224, 0.225])\n",
        "train_dataset.transform = transforms.Compose([\n",
        "    transforms.Resize([80, 80]),\n",
        "    transforms.RandomHorizontalFlip(), # augmentations\n",
        "    transforms.RandomAutocontrast(), # augmentations\n",
        "    transforms.RandomEqualize(), # augmentations\n",
        "    transforms.ToTensor(),\n",
        "    normalize\n",
        "])\n",
        "\n",
        "valid_dataset.transform = transforms.Compose([\n",
        "    transforms.Resize([80, 80]),\n",
        "    transforms.ToTensor(),\n",
        "    normalize\n",
        "])\n",
        "\n",
        "test_dataset.transform = transforms.Compose([\n",
        "    transforms.Resize([80, 80]),\n",
        "    transforms.ToTensor(),\n",
        "    normalize\n",
        "])\n"
      ]
    },
    {
      "cell_type": "code",
      "execution_count": 17,
      "metadata": {
        "id": "H8u9yL6uYZ_F"
      },
      "outputs": [],
      "source": [
        "# Training data loaders.\n",
        "train_loader = DataLoader(\n",
        "    train_dataset, batch_size=BATCH_SIZE,\n",
        "    shuffle=True\n",
        ")\n",
        "# Validation data loaders.\n",
        "valid_loader = DataLoader(\n",
        "    valid_dataset, batch_size=BATCH_SIZE,\n",
        "    shuffle=False\n",
        ")\n",
        "# Test data loaders\n",
        "test_loader = DataLoader(\n",
        "    valid_dataset, batch_size=BATCH_SIZE,\n",
        "    shuffle=False\n",
        ")"
      ]
    },
    {
      "cell_type": "markdown",
      "metadata": {
        "id": "mNI2QiCNYZ_G"
      },
      "source": [
        "Возьмём предобученную нейросеть GoogLeNet.\n",
        "\n",
        "Добавим один слой с выходным параметром out_feature=2\n",
        "\n",
        "Замораживаем все слои, кроме последних двух."
      ]
    },
    {
      "cell_type": "code",
      "execution_count": 18,
      "metadata": {
        "id": "MwMKsHmzYZ_G"
      },
      "outputs": [],
      "source": [
        "def google(): # pretrained=True для tensorflow\n",
        "    model = models.googlenet(weights=models.GoogLeNet_Weights.IMAGENET1K_V1)\n",
        "    model.fc = torch.nn.Linear(1024, len(train_dataset.classes))\n",
        "\n",
        "    for param in model.parameters():\n",
        "        param.requires_grad = True\n",
        "    model.inception3a.requires_grad = False\n",
        "    model.inception3b.requires_grad = False\n",
        "    model.inception4a.requires_grad = False\n",
        "    model.inception4b.requires_grad = False\n",
        "    model.inception4c.requires_grad = False\n",
        "    model.inception4d.requires_grad = False\n",
        "    model.inception4e.requires_grad = False\n",
        "    return model"
      ]
    },
    {
      "cell_type": "markdown",
      "metadata": {
        "id": "74tuf9xfYZ_H"
      },
      "source": [
        "**Определяем функцию обучения модели.**"
      ]
    },
    {
      "cell_type": "code",
      "execution_count": 19,
      "metadata": {
        "id": "757LdEvNYZ_H"
      },
      "outputs": [],
      "source": [
        "def train(model, optimizer, train_loader, val_loader, epoch=10):\n",
        "    loss_train, acc_train = [], []\n",
        "    loss_valid, acc_valid = [], []\n",
        "    count = 0\n",
        "    for epoch in tqdm(range(epoch)):\n",
        "        losses, equals = [], []\n",
        "        torch.set_grad_enabled(True)\n",
        "\n",
        "        # Train.\n",
        "        model.train()\n",
        "        for i, (image, target) in enumerate(train_loader):\n",
        "            image = image.to(device)\n",
        "            target = target.to(device)\n",
        "            output = model(image)\n",
        "            loss = criterion(output,target)\n",
        "\n",
        "            losses.append(loss.item())\n",
        "            equals.extend(\n",
        "                [x.item() for x in torch.argmax(output, 1) == target])\n",
        "\n",
        "            optimizer.zero_grad()\n",
        "            loss.backward()\n",
        "            optimizer.step()\n",
        "\n",
        "        loss_train.append(np.mean(losses))\n",
        "        acc_train.append(np.mean(equals))\n",
        "        losses, equals = [], []\n",
        "        torch.set_grad_enabled(False)\n",
        "\n",
        "        # Validate.\n",
        "        model.eval()\n",
        "        for i , (image, target) in enumerate(valid_loader):\n",
        "            image = image.to(device)\n",
        "            target = target.to(device)\n",
        "\n",
        "            output = model(image)\n",
        "            loss = criterion(output,target)\n",
        "\n",
        "            losses.append(loss.item())\n",
        "            equals.extend(\n",
        "                [y.item() for y in torch.argmax(output, 1) == target])\n",
        "\n",
        "        loss_valid.append(np.mean(losses))\n",
        "        acc_valid.append(np.mean(equals))\n",
        "\n",
        "    return loss_train, acc_train, loss_valid, acc_valid"
      ]
    },
    {
      "cell_type": "code",
      "execution_count": 20,
      "metadata": {
        "colab": {
          "base_uri": "https://localhost:8080/"
        },
        "id": "ZhDirfOpYZ_H",
        "outputId": "3c57fee7-e771-47f9-d42b-176badaf12bd"
      },
      "outputs": [
        {
          "output_type": "stream",
          "name": "stderr",
          "text": [
            "Downloading: \"https://download.pytorch.org/models/googlenet-1378be20.pth\" to /root/.cache/torch/hub/checkpoints/googlenet-1378be20.pth\n",
            "\n",
            "  0%|          | 0.00/49.7M [00:00<?, ?B/s]\u001b[A\n",
            " 18%|█▊        | 9.20M/49.7M [00:00<00:00, 96.4MB/s]\u001b[A\n",
            " 40%|████      | 20.0M/49.7M [00:00<00:00, 106MB/s] \u001b[A\n",
            " 71%|███████▏  | 35.4M/49.7M [00:00<00:00, 132MB/s]\u001b[A\n",
            "100%|██████████| 49.7M/49.7M [00:00<00:00, 103MB/s]\n"
          ]
        },
        {
          "output_type": "stream",
          "name": "stdout",
          "text": [
            "Model: GoogLeNet\n",
            "\n"
          ]
        },
        {
          "output_type": "stream",
          "name": "stderr",
          "text": [
            "\n",
            "  0%|          | 0/10 [00:00<?, ?it/s]\u001b[A\n",
            " 10%|█         | 1/10 [00:15<02:19, 15.49s/it]\u001b[A\n",
            " 20%|██        | 2/10 [00:28<01:51, 13.89s/it]\u001b[A\n",
            " 30%|███       | 3/10 [00:41<01:33, 13.40s/it]\u001b[A\n",
            " 40%|████      | 4/10 [00:55<01:22, 13.68s/it]\u001b[A\n",
            " 50%|█████     | 5/10 [01:08<01:07, 13.46s/it]\u001b[A\n",
            " 60%|██████    | 6/10 [01:21<00:53, 13.35s/it]\u001b[A\n",
            " 70%|███████   | 7/10 [01:34<00:40, 13.36s/it]\u001b[A\n",
            " 80%|████████  | 8/10 [01:48<00:27, 13.52s/it]\u001b[A\n",
            " 90%|█████████ | 9/10 [02:01<00:13, 13.42s/it]\u001b[A\n",
            "100%|██████████| 10/10 [02:15<00:00, 13.50s/it]"
          ]
        },
        {
          "output_type": "stream",
          "name": "stdout",
          "text": [
            "acc_train: [0.66728280961183, 0.8012939001848429, 0.8539741219963032, 0.899260628465804, 0.9186691312384473, 0.9473197781885397, 0.9621072088724584, 0.9805914972273567, 0.9768946395563771, 0.9833641404805915] \n",
            "acc_valid: [0.7532467532467533, 0.7489177489177489, 0.7878787878787878, 0.7402597402597403, 0.8095238095238095, 0.8008658008658008, 0.7922077922077922, 0.8181818181818182, 0.8181818181818182, 0.8008658008658008]\n",
            "loss_train: [0.6049040529657813, 0.44778916064430685, 0.3495841674944934, 0.2794615998864174, 0.22193538156502388, 0.15278012962902293, 0.11927213591030415, 0.08515388781533521, 0.07754831224241678, 0.05910865044878686] \n",
            "loss_valid: [0.5070693418383598, 0.4731632936745882, 0.461917320266366, 0.5015477556735277, 0.44326549023389816, 0.48698725923895836, 0.5097308401018381, 0.533448863774538, 0.580756451934576, 0.5884341057389975]\n"
          ]
        },
        {
          "output_type": "stream",
          "name": "stderr",
          "text": [
            "\n"
          ]
        }
      ],
      "source": [
        "criterion = torch.nn.CrossEntropyLoss()\n",
        "criterion = criterion.to(device)\n",
        "\n",
        "model = google()\n",
        "print('Model: GoogLeNet\\n')\n",
        "\n",
        "optimizer = torch.optim.Adam(model.parameters(), lr=1e-4)\n",
        "model = model.to(device)\n",
        "\n",
        "loss_train, acc_train, loss_valid, acc_valid = train(\n",
        "model, optimizer, train_loader, valid_loader)\n",
        "print('acc_train:', acc_train, '\\nacc_valid:', acc_valid)\n",
        "print('loss_train:', loss_train, '\\nloss_valid:', loss_valid)\n",
        "# del model\n",
        "# torch.cuda.empty_cache()"
      ]
    },
    {
      "cell_type": "markdown",
      "metadata": {
        "id": "g0Vr4xFcYZ_I"
      },
      "source": [
        "**Проверяем точность модели**"
      ]
    },
    {
      "cell_type": "code",
      "execution_count": null,
      "metadata": {
        "id": "6Ey2Z3lRYZ_I",
        "outputId": "19938693-b782-41f0-aef8-eec12ae1e8a4"
      },
      "outputs": [
        {
          "name": "stdout",
          "output_type": "stream",
          "text": [
            "Model accuracy: 75 %\n"
          ]
        }
      ],
      "source": [
        "correct = 0\n",
        "total = 0\n",
        "with torch.no_grad():\n",
        "   for data in test_loader:\n",
        "     images, labels = data\n",
        "    #  print(images)\n",
        "    #  print(f\"Label: {labels.size(0)}\")\n",
        "     outputs = model(images)\n",
        "     _, predicted = torch.max(outputs.data, 1)\n",
        "    #  print(f\"foft max: {torch.max(outputs.data, 1)}\")\n",
        "     total += labels.size(0)\n",
        "     correct += (predicted == labels).sum().item()\n",
        "\n",
        "print(f'Model accuracy: {100 * correct // total} %')"
      ]
    },
    {
      "cell_type": "code",
      "source": [
        "import pandas as pd\n",
        "\n",
        "data = []\n",
        "data.append(loss_train)\n",
        "data.append(loss_valid)\n",
        "\n",
        "df = pd.DataFrame(data).transpose()\n",
        "df.columns =['loss_train', 'loss_valid']\n",
        "\n",
        "# Изменение потерь во время обучения:\n",
        "df.plot(\n",
        "    title='Изменение потерь во время обучения',\n",
        "    grid=True,\n",
        "    xlabel='Кол-во эпох',\n",
        "    ylabel='Значение потерь'\n",
        "    );"
      ],
      "metadata": {
        "colab": {
          "base_uri": "https://localhost:8080/",
          "height": 472
        },
        "id": "xd8y_pyLaH7W",
        "outputId": "e31133ec-c935-4ba2-dc49-9318c3de486f"
      },
      "execution_count": 26,
      "outputs": [
        {
          "output_type": "display_data",
          "data": {
            "text/plain": [
              "<Figure size 640x480 with 1 Axes>"
            ],
            "image/png": "[encoded data removed]"
          },
          "metadata": {}
        }
      ]
    },
    {
      "cell_type": "code",
      "source": [
        "data = []\n",
        "data.append(acc_train)\n",
        "data.append(acc_valid)\n",
        "\n",
        "df = pd.DataFrame(data).transpose()\n",
        "df.columns =['acc_train', 'acc_valid']\n",
        "\n",
        "# Изменение accuracy во время обучения\n",
        "df.plot(\n",
        "    title='Изменение accuracy во время обучения',\n",
        "    grid=True,\n",
        "    xlabel='Кол-во эпох',\n",
        "    ylabel='Значение accuracy'\n",
        ");"
      ],
      "metadata": {
        "colab": {
          "base_uri": "https://localhost:8080/",
          "height": 472
        },
        "id": "v-huuPGicwZz",
        "outputId": "7db0e28f-cc40-4b0d-ce8f-0636200e0488"
      },
      "execution_count": 28,
      "outputs": [
        {
          "output_type": "display_data",
          "data": {
            "text/plain": [
              "<Figure size 640x480 with 1 Axes>"
            ],
            "image/png": "[encoded data removed]"
          },
          "metadata": {}
        }
      ]
    },
    {
      "cell_type": "markdown",
      "metadata": {
        "id": "n50P82QdYZ_I"
      },
      "source": [
        "**Работоспособность модели**"
      ]
    },
    {
      "cell_type": "code",
      "execution_count": null,
      "metadata": {
        "id": "rpvgK1KWYZ_I",
        "outputId": "c301c7ba-abff-4f1f-de8a-9684ac6140b2"
      },
      "outputs": [
        {
          "name": "stdout",
          "output_type": "stream",
          "text": [
            "eatble\n"
          ]
        }
      ],
      "source": [
        "\n",
        "url = \"https://avatars.mds.yandex.net/i?id=08ecf40616c96615f057052aa310bbb1ac90582d-4143030-images-thumbs&n=13\"\n",
        "\n",
        "# функция, приводящая изображение в нужный для модели формат\n",
        "def to_prepaate_img(url):\n",
        "    response = requests.get(url)\n",
        "    img = Image.open(BytesIO(response.content))\n",
        "\n",
        "    # load image in RGB mode (png files contains additional alpha channel)\n",
        "    img = img.convert('RGB')\n",
        "\n",
        "    # set up transformation to resize the image\n",
        "    resize = transforms.Resize([70, 70])\n",
        "    img = resize(img)\n",
        "    to_tensor = transforms.ToTensor()\n",
        "\n",
        "    # apply transformation and convert to Pytorch tensor\n",
        "    img_tenzor = to_tensor(img)\n",
        "    # torch.Size([3, 70, 70])\n",
        "    img_norm = normalize(img_tenzor)\n",
        "    # to_normalize = transforms.Normalize()\n",
        "\n",
        "    # add another dimension at the front to get NCHW shape\n",
        "    tensor = img_tenzor.unsqueeze(0)\n",
        "    # torch.Size([1, 3, 70, 70])\n",
        "    return tensor\n",
        "\n",
        "image = to_prepaate_img(url)\n",
        "outputs = model(image)\n",
        "_, predicted = torch.max(outputs.data, 1)\n",
        "classes = {\n",
        "           \"tensor(0)\": \"eatble\",\n",
        "           \"tensor(1)\": \"not eatble\"\n",
        "           }\n",
        "# print(classes[tensor[0]])\n",
        "print(classes[str(predicted[0])])\n",
        "# img"
      ]
    },
    {
      "cell_type": "code",
      "execution_count": null,
      "metadata": {
        "id": "6THTimkHYZ_J"
      },
      "outputs": [],
      "source": [
        "#  сохраняем модель в объект pkl\n",
        "pickle.dump(model, open(\"model.pkl\", \"wb\"))"
      ]
    }
  ],
  "metadata": {
    "kernelspec": {
      "display_name": "Python 3",
      "name": "python3"
    },
    "language_info": {
      "codemirror_mode": {
        "name": "ipython",
        "version": 3
      },
      "file_extension": ".py",
      "mimetype": "text/x-python",
      "name": "python",
      "nbconvert_exporter": "python",
      "pygments_lexer": "ipython3",
      "version": "3.11.1"
    },
    "colab": {
      "provenance": [],
      "gpuType": "T4"
    },
    "accelerator": "GPU"
  },
  "nbformat": 4,
  "nbformat_minor": 0
}